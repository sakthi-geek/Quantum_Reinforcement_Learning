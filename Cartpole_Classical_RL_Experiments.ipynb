{
 "cells": [
  {
   "cell_type": "code",
   "execution_count": 1,
   "metadata": {
    "collapsed": true,
    "ExecuteTime": {
     "end_time": "2023-07-27T00:10:42.876409200Z",
     "start_time": "2023-07-27T00:10:39.516075700Z"
    }
   },
   "outputs": [
    {
     "name": "stderr",
     "output_type": "stream",
     "text": [
      "2023-07-27 01:10:39.969569: W tensorflow/stream_executor/platform/default/dso_loader.cc:64] Could not load dynamic library 'libcudart.so.11.0'; dlerror: libcudart.so.11.0: cannot open shared object file: No such file or directory\n",
      "2023-07-27 01:10:39.969617: I tensorflow/stream_executor/cuda/cudart_stub.cc:29] Ignore above cudart dlerror if you do not have a GPU set up on your machine.\n"
     ]
    },
    {
     "name": "stdout",
     "output_type": "stream",
     "text": [
      "2.7.0\n",
      "0.18.0\n"
     ]
    }
   ],
   "source": [
    "import tensorflow as tf\n",
    "# import gymnasium as gym\n",
    "import numpy as np\n",
    "from functools import reduce\n",
    "from collections import deque, defaultdict\n",
    "import matplotlib.pyplot as plt\n",
    "from tensorflow import keras\n",
    "from tensorflow.keras import layers\n",
    "import gym\n",
    "\n",
    "print(tf.__version__)\n",
    "print(gym.__version__)"
   ]
  },
  {
   "cell_type": "markdown",
   "source": [
    "# REINFORCE Agent:"
   ],
   "metadata": {
    "collapsed": false
   }
  },
  {
   "cell_type": "code",
   "execution_count": 2,
   "outputs": [],
   "source": [
    "#defining a standard dense NN\n",
    "\n",
    "def build_model(state_size, action_size, learning_rate = 0.001):\n",
    "    model = tf.keras.models.Sequential()\n",
    "    model.add(tf.keras.layers.Dense(16, input_dim = state_size, activation = 'relu'))\n",
    "    model.add(tf.keras.layers.Dense(16))\n",
    "    model.add(tf.keras.layers.Dense(2, activation = 'relu', kernel_initializer='RandomNormal'))\n",
    "    model.add(tf.keras.layers.Dense(action_size, activation = 'softmax'))\n",
    "    return model"
   ],
   "metadata": {
    "collapsed": false,
    "ExecuteTime": {
     "end_time": "2023-07-27T00:10:49.914613100Z",
     "start_time": "2023-07-27T00:10:49.899480100Z"
    }
   }
  },
  {
   "cell_type": "code",
   "execution_count": 3,
   "outputs": [],
   "source": [
    "#function that gathers episodes of interaction with the environment\n",
    "def gather_episodes(state_bounds, n_actions, model, n_episodes, env_name):\n",
    "    \"\"\"Interact with environment in batched fashion.\"\"\"\n",
    "\n",
    "    trajectories = [defaultdict(list) for _ in range(n_episodes)]\n",
    "    envs = [gym.make(env_name) for _ in range(n_episodes)]\n",
    "\n",
    "\n",
    "    done = [False for _ in range(n_episodes)]\n",
    "    states = [e.reset()[0] for e in envs]\n",
    "\n",
    "    while not all(done):\n",
    "        unfinished_ids = [i for i in range(n_episodes) if not done[i]]\n",
    "        normalized_states = [s/state_bounds for i, s in enumerate(states) if not done[i]]\n",
    "\n",
    "        for i, state in zip(unfinished_ids, normalized_states):\n",
    "            trajectories[i]['states'].append(state)\n",
    "\n",
    "        # Compute policy for all unfinished envs in parallel\n",
    "        states = tf.convert_to_tensor(normalized_states)\n",
    "        action_probs = model([states])\n",
    "\n",
    "        # Store action and transition all environments to the next state\n",
    "        states = [None for i in range(n_episodes)]\n",
    "        for i, policy in zip(unfinished_ids, action_probs.numpy()):\n",
    "            #print(policy)\n",
    "            action = np.random.choice(n_actions, p=policy)\n",
    "            states[i], reward, done[i], _= envs[i].step(action)\n",
    "            trajectories[i]['actions'].append(action)\n",
    "            trajectories[i]['rewards'].append(reward)\n",
    "\n",
    "    return trajectories"
   ],
   "metadata": {
    "collapsed": false,
    "ExecuteTime": {
     "end_time": "2023-07-27T00:10:50.191521100Z",
     "start_time": "2023-07-27T00:10:50.185017100Z"
    }
   }
  },
  {
   "cell_type": "code",
   "execution_count": 4,
   "outputs": [],
   "source": [
    "def compute_returns(rewards_history, gamma):\n",
    "    \"\"\"Compute discounted returns with discount factor `gamma`.\"\"\"\n",
    "    returns = []\n",
    "    discounted_sum = 0\n",
    "    for r in rewards_history[::-1]:\n",
    "        discounted_sum = r + gamma * discounted_sum\n",
    "        returns.insert(0, discounted_sum)\n",
    "\n",
    "    # Normalize them for faster and more stable learning\n",
    "    returns = np.array(returns)\n",
    "    returns = (returns - np.mean(returns)) / (np.std(returns) + 1e-8)\n",
    "    returns = returns.tolist()\n",
    "\n",
    "    return returns"
   ],
   "metadata": {
    "collapsed": false,
    "ExecuteTime": {
     "end_time": "2023-07-27T00:10:50.466877500Z",
     "start_time": "2023-07-27T00:10:50.454843200Z"
    }
   }
  },
  {
   "cell_type": "code",
   "execution_count": 5,
   "outputs": [],
   "source": [
    "#function that updates the policy using states, actions and returns\n",
    "@tf.function\n",
    "def reinforce_update(states, actions, returns, model):\n",
    "    states = tf.convert_to_tensor(states)\n",
    "    actions = tf.convert_to_tensor(actions)\n",
    "    returns = tf.convert_to_tensor(returns)\n",
    "\n",
    "    with tf.GradientTape() as tape:\n",
    "        tape.watch(model.trainable_variables)\n",
    "        logits = model(states)\n",
    "        p_actions = tf.gather_nd(logits, actions)\n",
    "        log_probs = tf.math.log(p_actions)\n",
    "        loss = tf.math.reduce_sum(-log_probs * returns) / batch_size\n",
    "    grads = tape.gradient(loss, model.trainable_variables)\n",
    "    #for optimizer, w in zip([optimizer_in, optimizer_var, optimizer_out], [w_in, w_var, w_out]):\n",
    "    #    optimizer.apply_gradients([(grads[w], model.trainable_variables[w])])\n",
    "    optimizer.apply_gradients(zip(grads, model.trainable_variables))\n"
   ],
   "metadata": {
    "collapsed": false,
    "ExecuteTime": {
     "end_time": "2023-07-27T00:10:50.741743300Z",
     "start_time": "2023-07-27T00:10:50.721802600Z"
    }
   }
  },
  {
   "cell_type": "code",
   "execution_count": 6,
   "outputs": [
    {
     "name": "stdout",
     "output_type": "stream",
     "text": [
      "Model: \"sequential\"\n",
      "_________________________________________________________________\n",
      " Layer (type)                Output Shape              Param #   \n",
      "=================================================================\n",
      " dense (Dense)               (None, 16)                80        \n",
      "                                                                 \n",
      " dense_1 (Dense)             (None, 16)                272       \n",
      "                                                                 \n",
      " dense_2 (Dense)             (None, 2)                 34        \n",
      "                                                                 \n",
      " dense_3 (Dense)             (None, 2)                 6         \n",
      "                                                                 \n",
      "=================================================================\n",
      "Total params: 392\n",
      "Trainable params: 392\n",
      "Non-trainable params: 0\n",
      "_________________________________________________________________\n"
     ]
    },
    {
     "name": "stderr",
     "output_type": "stream",
     "text": [
      "2023-07-27 01:10:52.698868: I tensorflow/stream_executor/cuda/cuda_gpu_executor.cc:925] could not open file to read NUMA node: /sys/bus/pci/devices/0000:01:00.0/numa_node\n",
      "Your kernel may have been built without NUMA support.\n",
      "2023-07-27 01:10:52.699109: W tensorflow/stream_executor/platform/default/dso_loader.cc:64] Could not load dynamic library 'libcudart.so.11.0'; dlerror: libcudart.so.11.0: cannot open shared object file: No such file or directory\n",
      "2023-07-27 01:10:52.699938: W tensorflow/stream_executor/platform/default/dso_loader.cc:64] Could not load dynamic library 'libcublas.so.11'; dlerror: libcublas.so.11: cannot open shared object file: No such file or directory\n",
      "2023-07-27 01:10:52.700177: W tensorflow/stream_executor/platform/default/dso_loader.cc:64] Could not load dynamic library 'libcublasLt.so.11'; dlerror: libcublasLt.so.11: cannot open shared object file: No such file or directory\n",
      "2023-07-27 01:10:52.700773: W tensorflow/stream_executor/platform/default/dso_loader.cc:64] Could not load dynamic library 'libcufft.so.10'; dlerror: libcufft.so.10: cannot open shared object file: No such file or directory\n",
      "2023-07-27 01:10:52.701167: W tensorflow/stream_executor/platform/default/dso_loader.cc:64] Could not load dynamic library 'libcurand.so.10'; dlerror: libcurand.so.10: cannot open shared object file: No such file or directory\n",
      "2023-07-27 01:10:52.701257: W tensorflow/stream_executor/platform/default/dso_loader.cc:64] Could not load dynamic library 'libcusolver.so.11'; dlerror: libcusolver.so.11: cannot open shared object file: No such file or directory\n",
      "2023-07-27 01:10:52.701312: W tensorflow/stream_executor/platform/default/dso_loader.cc:64] Could not load dynamic library 'libcusparse.so.11'; dlerror: libcusparse.so.11: cannot open shared object file: No such file or directory\n",
      "2023-07-27 01:10:52.701361: W tensorflow/stream_executor/platform/default/dso_loader.cc:64] Could not load dynamic library 'libcudnn.so.8'; dlerror: libcudnn.so.8: cannot open shared object file: No such file or directory\n",
      "2023-07-27 01:10:52.701373: W tensorflow/core/common_runtime/gpu/gpu_device.cc:1850] Cannot dlopen some GPU libraries. Please make sure the missing libraries mentioned above are installed properly if you would like to use GPU. Follow the guide at https://www.tensorflow.org/install/gpu for how to download and setup the required libraries for your platform.\n",
      "Skipping registering GPU devices...\n",
      "2023-07-27 01:10:52.702122: I tensorflow/core/platform/cpu_feature_guard.cc:151] This TensorFlow binary is optimized with oneAPI Deep Neural Network Library (oneDNN) to use the following CPU instructions in performance-critical operations:  AVX2 FMA\n",
      "To enable them in other operations, rebuild TensorFlow with the appropriate compiler flags.\n"
     ]
    }
   ],
   "source": [
    "env = gym.make('CartPole-v1')\n",
    "state_size = env.observation_space.shape[0]\n",
    "action_size = env.action_space.n\n",
    "\n",
    "model = build_model(state_size, action_size, 0.1)\n",
    "#print(len(model.layers))\n",
    "model.summary()"
   ],
   "metadata": {
    "collapsed": false,
    "ExecuteTime": {
     "end_time": "2023-07-27T00:10:52.775031100Z",
     "start_time": "2023-07-27T00:10:50.994817200Z"
    }
   }
  },
  {
   "cell_type": "code",
   "execution_count": 7,
   "outputs": [],
   "source": [
    "state_bounds = np.array([2.4, 2.5, 0.21, 2.5])\n",
    "n_actions = 2\n",
    "gamma = 0.99\n",
    "batch_size = 16\n",
    "n_episodes = 2000\n",
    "\n",
    "optimizer = tf.keras.optimizers.Adam(learning_rate=0.02, amsgrad=True)\n",
    "\n",
    "# Assign the model parameters to each optimizer\n",
    "w_in, w_var, w_out = 1, 0, 2"
   ],
   "metadata": {
    "collapsed": false,
    "ExecuteTime": {
     "end_time": "2023-07-27T00:10:52.779030100Z",
     "start_time": "2023-07-27T00:10:52.777026500Z"
    }
   }
  },
  {
   "cell_type": "code",
   "execution_count": 8,
   "outputs": [
    {
     "name": "stdout",
     "output_type": "stream",
     "text": [
      "Finished episode 16 Average rewards:  21.8\n",
      "Finished episode 32 Average rewards:  24.0\n",
      "Finished episode 48 Average rewards:  34.3\n",
      "Finished episode 64 Average rewards:  24.7\n",
      "WARNING:tensorflow:5 out of the last 5 calls to <function reinforce_update at 0x7fa1ac3504d0> triggered tf.function retracing. Tracing is expensive and the excessive number of tracings could be due to (1) creating @tf.function repeatedly in a loop, (2) passing tensors with different shapes, (3) passing Python objects instead of tensors. For (1), please define your @tf.function outside of the loop. For (2), @tf.function has experimental_relax_shapes=True option that relaxes argument shapes that can avoid unnecessary retracing. For (3), please refer to https://www.tensorflow.org/guide/function#controlling_retracing and https://www.tensorflow.org/api_docs/python/tf/function for  more details.\n",
      "Finished episode 80 Average rewards:  32.5\n",
      "WARNING:tensorflow:6 out of the last 6 calls to <function reinforce_update at 0x7fa1ac3504d0> triggered tf.function retracing. Tracing is expensive and the excessive number of tracings could be due to (1) creating @tf.function repeatedly in a loop, (2) passing tensors with different shapes, (3) passing Python objects instead of tensors. For (1), please define your @tf.function outside of the loop. For (2), @tf.function has experimental_relax_shapes=True option that relaxes argument shapes that can avoid unnecessary retracing. For (3), please refer to https://www.tensorflow.org/guide/function#controlling_retracing and https://www.tensorflow.org/api_docs/python/tf/function for  more details.\n",
      "Finished episode 96 Average rewards:  36.2\n",
      "Finished episode 112 Average rewards:  39.9\n",
      "Finished episode 128 Average rewards:  40.7\n",
      "Finished episode 144 Average rewards:  37.5\n",
      "Finished episode 160 Average rewards:  44.1\n",
      "Finished episode 176 Average rewards:  46.9\n",
      "Finished episode 192 Average rewards:  62.1\n",
      "Finished episode 208 Average rewards:  80.0\n",
      "Finished episode 224 Average rewards:  45.3\n",
      "Finished episode 240 Average rewards:  87.7\n",
      "Finished episode 256 Average rewards:  111.2\n",
      "Finished episode 272 Average rewards:  96.5\n",
      "Finished episode 288 Average rewards:  65.2\n",
      "Finished episode 304 Average rewards:  97.5\n",
      "Finished episode 320 Average rewards:  84.6\n",
      "Finished episode 336 Average rewards:  115.3\n",
      "Finished episode 352 Average rewards:  106.7\n",
      "Finished episode 368 Average rewards:  86.8\n",
      "Finished episode 384 Average rewards:  131.6\n",
      "Finished episode 400 Average rewards:  160.9\n",
      "Finished episode 416 Average rewards:  195.7\n",
      "Finished episode 432 Average rewards:  142.3\n",
      "Finished episode 448 Average rewards:  170.1\n",
      "Finished episode 464 Average rewards:  147.2\n",
      "Finished episode 480 Average rewards:  137.1\n",
      "Finished episode 496 Average rewards:  100.7\n",
      "Finished episode 512 Average rewards:  105.8\n",
      "Finished episode 528 Average rewards:  103.0\n",
      "Finished episode 544 Average rewards:  69.5\n",
      "Finished episode 560 Average rewards:  51.2\n",
      "Finished episode 576 Average rewards:  77.6\n",
      "Finished episode 592 Average rewards:  95.4\n",
      "Finished episode 608 Average rewards:  118.1\n",
      "Finished episode 624 Average rewards:  127.0\n",
      "Finished episode 640 Average rewards:  132.2\n",
      "Finished episode 656 Average rewards:  135.1\n",
      "Finished episode 672 Average rewards:  127.5\n",
      "Finished episode 688 Average rewards:  126.9\n",
      "Finished episode 704 Average rewards:  112.1\n",
      "Finished episode 720 Average rewards:  114.1\n",
      "Finished episode 736 Average rewards:  108.7\n",
      "Finished episode 752 Average rewards:  94.5\n",
      "Finished episode 768 Average rewards:  93.2\n",
      "Finished episode 784 Average rewards:  108.2\n",
      "Finished episode 800 Average rewards:  86.6\n",
      "Finished episode 816 Average rewards:  87.4\n",
      "Finished episode 832 Average rewards:  76.4\n",
      "Finished episode 848 Average rewards:  63.8\n",
      "Finished episode 864 Average rewards:  76.9\n",
      "Finished episode 880 Average rewards:  71.0\n",
      "Finished episode 896 Average rewards:  74.8\n",
      "Finished episode 912 Average rewards:  71.1\n",
      "Finished episode 928 Average rewards:  70.2\n",
      "Finished episode 944 Average rewards:  67.9\n",
      "Finished episode 960 Average rewards:  62.7\n",
      "Finished episode 976 Average rewards:  60.8\n",
      "Finished episode 992 Average rewards:  55.1\n",
      "Finished episode 1008 Average rewards:  40.7\n",
      "Finished episode 1024 Average rewards:  30.0\n",
      "Finished episode 1040 Average rewards:  24.6\n",
      "Finished episode 1056 Average rewards:  25.8\n",
      "Finished episode 1072 Average rewards:  27.9\n",
      "Finished episode 1088 Average rewards:  39.7\n",
      "Finished episode 1104 Average rewards:  40.8\n",
      "Finished episode 1120 Average rewards:  48.2\n",
      "Finished episode 1136 Average rewards:  60.4\n",
      "Finished episode 1152 Average rewards:  64.5\n",
      "Finished episode 1168 Average rewards:  68.6\n",
      "Finished episode 1184 Average rewards:  72.5\n",
      "Finished episode 1200 Average rewards:  84.6\n",
      "Finished episode 1216 Average rewards:  93.6\n",
      "Finished episode 1232 Average rewards:  109.8\n",
      "Finished episode 1248 Average rewards:  139.5\n",
      "Finished episode 1264 Average rewards:  163.0\n",
      "Finished episode 1280 Average rewards:  250.8\n",
      "Finished episode 1296 Average rewards:  271.2\n",
      "Finished episode 1312 Average rewards:  252.8\n",
      "Finished episode 1328 Average rewards:  176.4\n",
      "Finished episode 1344 Average rewards:  225.9\n",
      "Finished episode 1360 Average rewards:  150.9\n",
      "Finished episode 1376 Average rewards:  178.6\n",
      "Finished episode 1392 Average rewards:  164.0\n",
      "Finished episode 1408 Average rewards:  135.0\n",
      "Finished episode 1424 Average rewards:  130.9\n",
      "Finished episode 1440 Average rewards:  112.0\n",
      "Finished episode 1456 Average rewards:  102.5\n",
      "Finished episode 1472 Average rewards:  100.4\n",
      "Finished episode 1488 Average rewards:  91.1\n",
      "Finished episode 1504 Average rewards:  86.0\n",
      "Finished episode 1520 Average rewards:  95.2\n",
      "Finished episode 1536 Average rewards:  83.7\n",
      "Finished episode 1552 Average rewards:  80.1\n",
      "Finished episode 1568 Average rewards:  76.1\n",
      "Finished episode 1584 Average rewards:  88.5\n",
      "Finished episode 1600 Average rewards:  78.8\n",
      "Finished episode 1616 Average rewards:  86.5\n",
      "Finished episode 1632 Average rewards:  79.8\n",
      "Finished episode 1648 Average rewards:  85.8\n",
      "Finished episode 1664 Average rewards:  84.5\n",
      "Finished episode 1680 Average rewards:  87.1\n",
      "Finished episode 1696 Average rewards:  88.5\n",
      "Finished episode 1712 Average rewards:  96.7\n",
      "Finished episode 1728 Average rewards:  107.3\n",
      "Finished episode 1744 Average rewards:  114.5\n",
      "Finished episode 1760 Average rewards:  135.2\n",
      "Finished episode 1776 Average rewards:  158.9\n",
      "Finished episode 1792 Average rewards:  182.8\n",
      "Finished episode 1808 Average rewards:  217.7\n",
      "Finished episode 1824 Average rewards:  283.7\n",
      "Finished episode 1840 Average rewards:  360.2\n",
      "Finished episode 1856 Average rewards:  347.5\n",
      "Finished episode 1872 Average rewards:  332.7\n",
      "Finished episode 1888 Average rewards:  289.5\n",
      "Finished episode 1904 Average rewards:  284.3\n",
      "Finished episode 1920 Average rewards:  239.4\n",
      "Finished episode 1936 Average rewards:  218.9\n",
      "Finished episode 1952 Average rewards:  188.9\n",
      "Finished episode 1968 Average rewards:  192.3\n",
      "Finished episode 1984 Average rewards:  175.1\n",
      "Finished episode 2000 Average rewards:  160.8\n"
     ]
    }
   ],
   "source": [
    "#main training loop of the agent\n",
    "env_name = \"CartPole-v1\"\n",
    "\n",
    "# Start training the agent\n",
    "episode_reward_history = []\n",
    "for batch in range(n_episodes // batch_size):\n",
    "    # Gather episodes\n",
    "    episodes = gather_episodes(state_bounds, n_actions, model, batch_size, env_name)\n",
    "\n",
    "    # Group states, actions and returns in numpy arrays\n",
    "    states = np.concatenate([ep['states'] for ep in episodes])\n",
    "    actions = np.concatenate([ep['actions'] for ep in episodes])\n",
    "    rewards = [ep['rewards'] for ep in episodes]\n",
    "    returns = np.concatenate([compute_returns(ep_rwds, gamma) for ep_rwds in rewards])\n",
    "    returns = np.array(returns, dtype=np.float32)\n",
    "\n",
    "    id_action_pairs = np.array([[i, a] for i, a in enumerate(actions)])\n",
    "\n",
    "    # Update model parameters.\n",
    "    reinforce_update(states, id_action_pairs, returns, model)\n",
    "\n",
    "    # Store collected rewards\n",
    "    for ep_rwds in rewards:\n",
    "        episode_reward_history.append(np.sum(ep_rwds))\n",
    "\n",
    "    avg_rewards = np.mean(episode_reward_history[-10:])\n",
    "\n",
    "    print('Finished episode', (batch + 1) * batch_size,\n",
    "          'Average rewards: ', avg_rewards)\n",
    "\n",
    "    if avg_rewards >= 500.0:\n",
    "        break\n"
   ],
   "metadata": {
    "collapsed": false,
    "ExecuteTime": {
     "end_time": "2023-07-27T00:11:18.703427200Z",
     "start_time": "2023-07-27T00:10:52.781584300Z"
    }
   }
  },
  {
   "cell_type": "code",
   "execution_count": 9,
   "outputs": [
    {
     "data": {
      "text/plain": "<Figure size 1000x500 with 1 Axes>",
      "image/png": "[encoded data removed]"
     },
     "metadata": {},
     "output_type": "display_data"
    }
   ],
   "source": [
    "plt.figure(figsize=(10,5))\n",
    "plt.plot(episode_reward_history)\n",
    "plt.xlabel('Epsiode')\n",
    "plt.ylabel('Collected rewards')\n",
    "plt.show()"
   ],
   "metadata": {
    "collapsed": false,
    "ExecuteTime": {
     "end_time": "2023-07-27T00:11:18.815845900Z",
     "start_time": "2023-07-27T00:11:18.704434700Z"
    }
   }
  },
  {
   "cell_type": "code",
   "execution_count": 13,
   "outputs": [],
   "source": [
    "# env = gym.make(\"CartPole-v1\")  # , render_mode=\"human\"\n",
    "# observation = env.reset()\n",
    "#\n",
    "# for _ in range(500):\n",
    "#     states = tf.convert_to_tensor(observation.reshape(1, -1) / state_bounds)\n",
    "#     action_probs = np.asarray(model(states)).astype('float64')  # issue with float32\n",
    "#     action_probs = action_probs/np.sum(action_probs)\n",
    "#     action = np.random.choice(n_actions, p=action_probs[0])\n",
    "#     observation, reward, terminated, truncated = env.step(action)\n",
    "#\n",
    "#     if terminated or truncated:\n",
    "#         observation = env.reset()\n",
    "#\n",
    "# env.close()"
   ],
   "metadata": {
    "collapsed": false,
    "ExecuteTime": {
     "end_time": "2023-07-27T00:12:24.918594100Z",
     "start_time": "2023-07-27T00:12:24.629138700Z"
    }
   }
  },
  {
   "cell_type": "code",
   "execution_count": null,
   "outputs": [],
   "source": [],
   "metadata": {
    "collapsed": false
   }
  },
  {
   "cell_type": "markdown",
   "source": [
    "# Deep Q Learning Agent"
   ],
   "metadata": {
    "collapsed": false
   }
  },
  {
   "cell_type": "code",
   "execution_count": 14,
   "outputs": [],
   "source": [
    "# Define the Q-network\n",
    "def build_q_network(state_size, action_size):\n",
    "    model = keras.Sequential()\n",
    "    model.add(layers.Dense(24, activation='relu', input_dim=state_size))\n",
    "    model.add(layers.Dense(24, activation='relu'))\n",
    "    model.add(layers.Dense(action_size, activation='linear'))\n",
    "    return model"
   ],
   "metadata": {
    "collapsed": false,
    "ExecuteTime": {
     "end_time": "2023-07-27T00:12:55.933779800Z",
     "start_time": "2023-07-27T00:12:55.915487300Z"
    }
   }
  },
  {
   "cell_type": "code",
   "execution_count": 15,
   "outputs": [],
   "source": [
    "# Define the DQN agent\n",
    "class DQNAgent:\n",
    "    def __init__(self, state_size, action_size, learning_rate=0.001, gamma=0.99, epsilon=1.0, epsilon_decay=0.995, epsilon_min=0.01):\n",
    "        self.state_size = state_size\n",
    "        self.action_size = action_size\n",
    "        self.learning_rate = learning_rate\n",
    "        self.gamma = gamma\n",
    "        self.epsilon = epsilon\n",
    "        self.epsilon_decay = epsilon_decay\n",
    "        self.epsilon_min = epsilon_min\n",
    "        self.model = build_q_network(state_size, action_size)\n",
    "        self.target_model = build_q_network(state_size, action_size)\n",
    "        self.replay_memory = deque(maxlen=2000)\n",
    "        self.model.compile(loss='mse', optimizer=keras.optimizers.Adam(lr=learning_rate))\n",
    "\n",
    "    def choose_action(self, state):\n",
    "        if np.random.rand() <= self.epsilon:\n",
    "            return np.random.choice(self.action_size)\n",
    "        q_values = self.model.predict(state)\n",
    "        return np.argmax(q_values[0])\n",
    "\n",
    "    def remember(self, state, action, reward, next_state, done):\n",
    "        self.replay_memory.append((state, action, reward, next_state, done))\n",
    "\n",
    "    def train(self, batch_size):\n",
    "        if len(self.replay_memory) < batch_size:\n",
    "            return\n",
    "\n",
    "        minibatch = np.random.choice(len(self.replay_memory), batch_size, replace=False)\n",
    "        states = []\n",
    "        targets = []\n",
    "\n",
    "        for idx in minibatch:\n",
    "            state, action, reward, next_state, done = self.replay_memory[idx]\n",
    "            target = self.target_model.predict(state)\n",
    "            if done:\n",
    "                target[0][action] = reward\n",
    "            else:\n",
    "                q_future = np.max(self.target_model.predict(next_state)[0])\n",
    "                target[0][action] = reward + self.gamma * q_future\n",
    "\n",
    "            states.append(state[0])\n",
    "            targets.append(target[0])\n",
    "\n",
    "        self.model.fit(np.array(states), np.array(targets), epochs=1, verbose=0)\n",
    "\n",
    "        if self.epsilon > self.epsilon_min:\n",
    "            self.epsilon *= self.epsilon_decay\n",
    "\n",
    "    def update_target_model(self):\n",
    "        self.target_model.set_weights(self.model.get_weights())"
   ],
   "metadata": {
    "collapsed": false,
    "ExecuteTime": {
     "end_time": "2023-07-27T00:12:56.462625500Z",
     "start_time": "2023-07-27T00:12:56.452123900Z"
    }
   }
  },
  {
   "cell_type": "code",
   "execution_count": 16,
   "outputs": [],
   "source": [
    "# Create the CartPole environment\n",
    "env = gym.make('CartPole-v1')\n",
    "state_size = env.observation_space.shape[0]\n",
    "action_size = env.action_space.n"
   ],
   "metadata": {
    "collapsed": false,
    "ExecuteTime": {
     "end_time": "2023-07-27T00:12:58.023681400Z",
     "start_time": "2023-07-27T00:12:58.002654600Z"
    }
   }
  },
  {
   "cell_type": "code",
   "execution_count": 17,
   "outputs": [
    {
     "name": "stderr",
     "output_type": "stream",
     "text": [
      "/home/geeks_ubuntu/miniconda3/envs/py37_tfq_test_env/lib/python3.7/site-packages/keras/optimizer_v2/adam.py:105: UserWarning: The `lr` argument is deprecated, use `learning_rate` instead.\n",
      "  super(Adam, self).__init__(name, **kwargs)\n"
     ]
    }
   ],
   "source": [
    "# Create the DQN agent\n",
    "agent = DQNAgent(state_size, action_size)"
   ],
   "metadata": {
    "collapsed": false,
    "ExecuteTime": {
     "end_time": "2023-07-27T00:13:00.175004200Z",
     "start_time": "2023-07-27T00:13:00.110815Z"
    }
   }
  },
  {
   "cell_type": "code",
   "execution_count": 18,
   "outputs": [],
   "source": [
    "# Training parameters\n",
    "n_episodes = 2000\n",
    "max_timesteps = 500\n",
    "batch_size = 16\n",
    "render = False"
   ],
   "metadata": {
    "collapsed": false,
    "ExecuteTime": {
     "end_time": "2023-07-27T00:13:02.556187600Z",
     "start_time": "2023-07-27T00:13:02.526743600Z"
    }
   }
  },
  {
   "cell_type": "code",
   "execution_count": null,
   "outputs": [
    {
     "name": "stdout",
     "output_type": "stream",
     "text": [
      "Episode: 1 Total Reward: 17.0\n",
      "Episode: 2 Total Reward: 58.0\n",
      "Episode: 3 Total Reward: 10.0\n",
      "Episode: 4 Total Reward: 23.0\n",
      "Episode: 5 Total Reward: 8.0\n",
      "Episode: 6 Total Reward: 14.0\n",
      "Episode: 7 Total Reward: 18.0\n",
      "Episode: 8 Total Reward: 9.0\n",
      "Episode: 9 Total Reward: 10.0\n",
      "Episode: 10 Total Reward: 12.0\n",
      "Episode: 11 Total Reward: 8.0\n"
     ]
    }
   ],
   "source": [
    "# Episode reward history\n",
    "episode_reward_history = []\n",
    "\n",
    "# Main training loop\n",
    "for episode in range(n_episodes):\n",
    "    state = env.reset()\n",
    "    state = np.reshape(state, [1, state_size])\n",
    "    total_reward = 0\n",
    "\n",
    "    for timestep in range(max_timesteps):\n",
    "        if render:\n",
    "            env.render()\n",
    "\n",
    "        action = agent.choose_action(state)\n",
    "        next_state, reward, done, _ = env.step(action)\n",
    "        next_state = np.reshape(next_state, [1, state_size])\n",
    "        agent.remember(state, action, reward, next_state, done)\n",
    "        state = next_state\n",
    "        total_reward += reward\n",
    "\n",
    "        if done:\n",
    "            agent.update_target_model()\n",
    "            break\n",
    "\n",
    "        agent.train(batch_size)\n",
    "\n",
    "    episode_reward_history.append(total_reward)\n",
    "    print(\"Episode:\", episode+1, \"Total Reward:\", total_reward)"
   ],
   "metadata": {
    "collapsed": false,
    "is_executing": true,
    "ExecuteTime": {
     "start_time": "2023-07-27T00:13:04.159092400Z"
    }
   }
  },
  {
   "cell_type": "code",
   "execution_count": null,
   "outputs": [],
   "source": [
    "plt.figure(figsize=(10,5))\n",
    "plt.plot(episode_reward_history)\n",
    "plt.xlabel('Epsiode')\n",
    "plt.ylabel('Collected rewards')\n",
    "plt.show()"
   ],
   "metadata": {
    "collapsed": false,
    "is_executing": true
   }
  },
  {
   "cell_type": "code",
   "execution_count": null,
   "outputs": [],
   "source": [
    "# Evaluate the trained agent\n",
    "total_rewards = []\n",
    "n_eval_episodes = 10\n",
    "\n",
    "for _ in range(n_eval_episodes):\n",
    "    state = env.reset()\n",
    "    state = np.reshape(state, [1, state_size])\n",
    "    episode_reward = 0\n",
    "\n",
    "    while True:\n",
    "        env.render()\n",
    "        action = agent.choose_action(state)\n",
    "        next_state, reward, done, _ = env.step(action)\n",
    "        next_state = np.reshape(next_state, [1, state_size])\n",
    "        episode_reward += reward\n",
    "        state = next_state\n",
    "\n",
    "        if done:\n",
    "            break\n",
    "\n",
    "    total_rewards.append(episode_reward)\n",
    "\n",
    "average_reward = np.mean(total_rewards)\n",
    "print(\"Average Reward:\", average_reward)\n",
    "\n",
    "# Close the environment\n",
    "env.close()"
   ],
   "metadata": {
    "collapsed": false,
    "is_executing": true
   }
  },
  {
   "cell_type": "code",
   "execution_count": null,
   "outputs": [],
   "source": [],
   "metadata": {
    "collapsed": false
   }
  },
  {
   "cell_type": "markdown",
   "source": [
    "# Actor-Critic Agent"
   ],
   "metadata": {
    "collapsed": false
   }
  },
  {
   "cell_type": "code",
   "execution_count": null,
   "outputs": [],
   "source": [
    "inputs = layers.Input(shape=(num_inputs,))\n",
    "common = layers.Dense(num_hidden, activation=\"relu\")(inputs)\n",
    "action = layers.Dense(num_actions, activation=\"softmax\")(common)\n",
    "critic = layers.Dense(1)(common)\n",
    "\n",
    "model = keras.Model(inputs=inputs, outputs=[action, critic])"
   ],
   "metadata": {
    "collapsed": false
   }
  },
  {
   "cell_type": "code",
   "execution_count": null,
   "outputs": [],
   "source": [
    "num_inputs = 4\n",
    "num_actions = 2\n",
    "num_hidden = 128"
   ],
   "metadata": {
    "collapsed": false
   }
  },
  {
   "cell_type": "code",
   "execution_count": null,
   "outputs": [],
   "source": [
    "# Configuration parameters for the whole setup\n",
    "seed = 42\n",
    "gamma = 0.99  # Discount factor for past rewards\n",
    "max_steps_per_episode = 10000\n",
    "env = gym.make(\"CartPole-v1\")  # Create the environment\n",
    "env.seed(seed)\n",
    "eps = np.finfo(np.float32).eps.item()  # Smallest number such that 1.0 + eps != 1.0"
   ],
   "metadata": {
    "collapsed": false
   }
  },
  {
   "cell_type": "code",
   "execution_count": null,
   "outputs": [],
   "source": [
    "optimizer = keras.optimizers.Adam(learning_rate=0.01)\n",
    "huber_loss = keras.losses.Huber()\n",
    "action_probs_history = []\n",
    "critic_value_history = []\n",
    "rewards_history = []\n",
    "running_reward = 0\n",
    "episode_count = 0"
   ],
   "metadata": {
    "collapsed": false
   }
  },
  {
   "cell_type": "code",
   "execution_count": null,
   "outputs": [],
   "source": [
    "while True:  # Run until solved\n",
    "    state = env.reset()\n",
    "    episode_reward = 0\n",
    "    with tf.GradientTape() as tape:\n",
    "        for timestep in range(1, max_steps_per_episode):\n",
    "            # env.render(); Adding this line would show the attempts\n",
    "            # of the agent in a pop up window.\n",
    "\n",
    "            state = tf.convert_to_tensor(state)\n",
    "            state = tf.expand_dims(state, 0)\n",
    "\n",
    "            # Predict action probabilities and estimated future rewards\n",
    "            # from environment state\n",
    "            action_probs, critic_value = model(state)\n",
    "            critic_value_history.append(critic_value[0, 0])\n",
    "\n",
    "            # Sample action from action probability distribution\n",
    "            action = np.random.choice(num_actions, p=np.squeeze(action_probs))\n",
    "            action_probs_history.append(tf.math.log(action_probs[0, action]))\n",
    "\n",
    "            # Apply the sampled action in our environment\n",
    "            state, reward, done, _ = env.step(action)\n",
    "            rewards_history.append(reward)\n",
    "            episode_reward += reward\n",
    "\n",
    "            if done:\n",
    "                break\n",
    "\n",
    "        # Update running reward to check condition for solving\n",
    "        running_reward = 0.05 * episode_reward + (1 - 0.05) * running_reward\n",
    "\n",
    "        # Calculate expected value from rewards\n",
    "        # - At each timestep what was the total reward received after that timestep\n",
    "        # - Rewards in the past are discounted by multiplying them with gamma\n",
    "        # - These are the labels for our critic\n",
    "        returns = []\n",
    "        discounted_sum = 0\n",
    "        for r in rewards_history[::-1]:\n",
    "            discounted_sum = r + gamma * discounted_sum\n",
    "            returns.insert(0, discounted_sum)\n",
    "\n",
    "        # Normalize\n",
    "        returns = np.array(returns)\n",
    "        returns = (returns - np.mean(returns)) / (np.std(returns) + eps)\n",
    "        returns = returns.tolist()\n",
    "\n",
    "        # Calculating loss values to update our network\n",
    "        history = zip(action_probs_history, critic_value_history, returns)\n",
    "        actor_losses = []\n",
    "        critic_losses = []\n",
    "        for log_prob, value, ret in history:\n",
    "            # At this point in history, the critic estimated that we would get a\n",
    "            # total reward = `value` in the future. We took an action with log probability\n",
    "            # of `log_prob` and ended up recieving a total reward = `ret`.\n",
    "            # The actor must be updated so that it predicts an action that leads to\n",
    "            # high rewards (compared to critic's estimate) with high probability.\n",
    "            diff = ret - value\n",
    "            actor_losses.append(-log_prob * diff)  # actor loss\n",
    "\n",
    "            # The critic must be updated so that it predicts a better estimate of\n",
    "            # the future rewards.\n",
    "            critic_losses.append(\n",
    "                huber_loss(tf.expand_dims(value, 0), tf.expand_dims(ret, 0))\n",
    "            )\n",
    "\n",
    "        # Backpropagation\n",
    "        loss_value = sum(actor_losses) + sum(critic_losses)\n",
    "        grads = tape.gradient(loss_value, model.trainable_variables)\n",
    "        optimizer.apply_gradients(zip(grads, model.trainable_variables))\n",
    "\n",
    "        # Clear the loss and reward history\n",
    "        action_probs_history.clear()\n",
    "        critic_value_history.clear()\n",
    "        rewards_history.clear()\n",
    "\n",
    "    # Log details\n",
    "    episode_count += 1\n",
    "    if episode_count % 10 == 0:\n",
    "        template = \"running reward: {:.2f} at episode {}\"\n",
    "        print(template.format(running_reward, episode_count))\n",
    "\n",
    "    if running_reward > 195:  # Condition to consider the task solved\n",
    "        print(\"Solved at episode {}!\".format(episode_count))\n",
    "        break"
   ],
   "metadata": {
    "collapsed": false
   }
  },
  {
   "cell_type": "code",
   "execution_count": null,
   "outputs": [],
   "source": [],
   "metadata": {
    "collapsed": false
   }
  },
  {
   "cell_type": "code",
   "execution_count": null,
   "outputs": [],
   "source": [],
   "metadata": {
    "collapsed": false
   }
  },
  {
   "cell_type": "code",
   "execution_count": null,
   "outputs": [],
   "source": [],
   "metadata": {
    "collapsed": false
   }
  },
  {
   "cell_type": "code",
   "execution_count": null,
   "outputs": [],
   "source": [],
   "metadata": {
    "collapsed": false
   }
  },
  {
   "cell_type": "code",
   "execution_count": null,
   "outputs": [],
   "source": [],
   "metadata": {
    "collapsed": false
   }
  }
 ],
 "metadata": {
  "kernelspec": {
   "display_name": "Python 3",
   "language": "python",
   "name": "python3"
  },
  "language_info": {
   "codemirror_mode": {
    "name": "ipython",
    "version": 2
   },
   "file_extension": ".py",
   "mimetype": "text/x-python",
   "name": "python",
   "nbconvert_exporter": "python",
   "pygments_lexer": "ipython2",
   "version": "2.7.6"
  }
 },
 "nbformat": 4,
 "nbformat_minor": 0
}
